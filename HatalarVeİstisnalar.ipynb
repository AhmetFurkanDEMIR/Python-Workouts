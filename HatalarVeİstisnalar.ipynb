{
 "cells": [
  {
   "cell_type": "markdown",
   "metadata": {},
   "source": [
    "# Hataları ve İstisnaları Yakalama - try, except, finally Blokları"
   ]
  },
  {
   "cell_type": "markdown",
   "metadata": {},
   "source": [
    "### Temel Hatalar\n",
    " \n",
    " +-- SystemExit\n",
    " \n",
    " +-- KeyboardInterrupt\n",
    " \n",
    " +-- GeneratorExit\n",
    " \n",
    " +-- Exception\n",
    " \n",
    "      +-- StopIteration\n",
    "      +-- StopAsyncIteration\n",
    "      +-- ArithmeticError\n",
    "      |    +-- FloatingPointError\n",
    "      |    +-- OverflowError\n",
    "      |    +-- ZeroDivisionError\n",
    "      +-- AssertionError\n",
    "      +-- AttributeError\n",
    "      +-- BufferError\n",
    "      +-- EOFError\n",
    "      +-- ImportError\n",
    "      |    +-- ModuleNotFoundError\n",
    "      +-- LookupError\n",
    "      |    +-- IndexError\n",
    "      |    +-- KeyError\n",
    "      +-- MemoryError\n",
    "      +-- NameError\n",
    "      |    +-- UnboundLocalError\n",
    "      +-- OSError\n",
    "      |    +-- BlockingIOError\n",
    "      |    +-- ChildProcessError\n",
    "      |    +-- ConnectionError\n",
    "      |    |    +-- BrokenPipeError\n",
    "      |    |    +-- ConnectionAbortedError\n",
    "      |    |    +-- ConnectionRefusedError\n",
    "      |    |    +-- ConnectionResetError\n",
    "      |    +-- FileExistsError\n",
    "      |    +-- FileNotFoundError\n",
    "      |    +-- InterruptedError\n",
    "      |    +-- IsADirectoryError\n",
    "      |    +-- NotADirectoryError\n",
    "      |    +-- PermissionError\n",
    "      |    +-- ProcessLookupError\n",
    "      |    +-- TimeoutError\n",
    "      +-- ReferenceError\n",
    "      +-- RuntimeError\n",
    "      |    +-- NotImplementedError\n",
    "      |    +-- RecursionError\n",
    "      +-- SyntaxError\n",
    "      |    +-- IndentationError\n",
    "      |         +-- TabError\n",
    "      +-- SystemError\n",
    "      +-- TypeError\n",
    "      +-- ValueError\n",
    "      |    +-- UnicodeError\n",
    "      |         +-- UnicodeDecodeError\n",
    "      |         +-- UnicodeEncodeError\n",
    "      |         +-- UnicodeTranslateError\n",
    "      +-- Warning\n",
    "           +-- DeprecationWarning\n",
    "           +-- PendingDeprecationWarning\n",
    "           +-- RuntimeWarning\n",
    "           +-- SyntaxWarning\n",
    "           +-- UserWarning\n",
    "           +-- FutureWarning\n",
    "           +-- ImportWarning\n",
    "           +-- UnicodeWarning\n",
    "           +-- BytesWarning\n",
    "           +-- ResourceWarning"
   ]
  },
  {
   "cell_type": "code",
   "execution_count": 2,
   "metadata": {},
   "outputs": [
    {
     "name": "stdout",
     "output_type": "stream",
     "text": [
      "Bir sayı sıfıra bölünemez\n"
     ]
    }
   ],
   "source": [
    "a = 5\n",
    "\n",
    "b = 0\n",
    "\n",
    "try:\n",
    "\n",
    "    # Hata verebilecek durumları buraya yazıyoruz.\n",
    "    # ZeroDivisionError (Bir sayı sıfıra bölünemez)\n",
    "    print(a/b)\n",
    "\n",
    "# Eğer yapılan işlemde ZeroDivisionError hatası halırsak bu bloğa girilecek.\n",
    "except ZeroDivisionError:\n",
    "\n",
    "    print(\"Bir sayı sıfıra bölünemez\")"
   ]
  },
  {
   "cell_type": "code",
   "execution_count": 3,
   "metadata": {},
   "outputs": [
    {
     "name": "stdout",
     "output_type": "stream",
     "text": [
      "Hata mesajımız : ValueError: invalid literal for int() with base 10: 'asddsf548'\n"
     ]
    }
   ],
   "source": [
    "try:\n",
    "\n",
    "    a = \"asddsf548\"\n",
    "\n",
    "    a = int(a)\n",
    "\n",
    "# Eğer hata türü girmezsek herhangi bir hatada bu bolğa girer.\n",
    "\n",
    "except:\n",
    "\n",
    "    print(\"Hata mesajımız : ValueError: invalid literal for int() with base 10: 'asddsf548'\")"
   ]
  },
  {
   "cell_type": "code",
   "execution_count": 4,
   "metadata": {},
   "outputs": [
    {
     "name": "stdout",
     "output_type": "stream",
     "text": [
      "1.1333333333333333\n"
     ]
    }
   ],
   "source": [
    "a = 10.2\n",
    "\n",
    "c = 9\n",
    "\n",
    "try:\n",
    "\n",
    "    print(a/c)\n",
    "\n",
    "    # Eğer hata oluşmazsa bu bloğa girmez.\n",
    "except:\n",
    "\n",
    "    print(\"Hata olurmu ?\")"
   ]
  },
  {
   "cell_type": "code",
   "execution_count": 5,
   "metadata": {},
   "outputs": [
    {
     "name": "stdout",
     "output_type": "stream",
     "text": [
      "Bir sayı sıfıra bölünemez\n"
     ]
    }
   ],
   "source": [
    "c = 0\n",
    "\n",
    "try:\n",
    "\n",
    "    print(a/c) # ilk hatanın ilk except bloğuna girer\n",
    "\n",
    "    a = \"asddsf548\"\n",
    "\n",
    "    a = int(a)\n",
    "\n",
    "except ValueError:\n",
    "\n",
    "    print(\"Girilen değisken int() çevirilemiyor.\")\n",
    "\n",
    "\n",
    "except ZeroDivisionError: # girilecek blok\n",
    "\n",
    "    print(\"Bir sayı sıfıra bölünemez\")"
   ]
  },
  {
   "cell_type": "markdown",
   "metadata": {},
   "source": [
    "### Hesap Makinesi Bölme Ve Tip Biçimlemesi Hatası"
   ]
  },
  {
   "cell_type": "code",
   "execution_count": 7,
   "metadata": {},
   "outputs": [
    {
     "name": "stdout",
     "output_type": "stream",
     "text": [
      "Birinci sayiyi giriniz = d\n",
      "ikinci saiyiyi giriniz = 8\n",
      "Lütfen Float veya İnt değerler giriniz.\n"
     ]
    }
   ],
   "source": [
    "# ValueError hatası\n",
    "\n",
    "a = input(\"Birinci sayiyi giriniz = \")\n",
    "\n",
    "b = input(\"ikinci saiyiyi giriniz = \")\n",
    "\n",
    "\n",
    "try:\n",
    "    \n",
    "    a = float(a)\n",
    "    b = float(b)\n",
    "    \n",
    "    print(a/b)\n",
    "    \n",
    "except ValueError:\n",
    "    \n",
    "    print(\"Lütfen Float veya İnt değerler giriniz.\")\n",
    "    \n",
    "except ZeroDivisionError:\n",
    "    \n",
    "    print(\"Bir sayı sıfıra bölünemez\")"
   ]
  },
  {
   "cell_type": "code",
   "execution_count": 8,
   "metadata": {},
   "outputs": [
    {
     "name": "stdout",
     "output_type": "stream",
     "text": [
      "Birinci sayiyi giriniz = 8\n",
      "ikinci saiyiyi giriniz = 0\n",
      "Bir sayı sıfıra bölünemez\n"
     ]
    }
   ],
   "source": [
    "# ZeroDivisionError hatası\n",
    "\n",
    "a = input(\"Birinci sayiyi giriniz = \")\n",
    "\n",
    "b = input(\"ikinci saiyiyi giriniz = \")\n",
    "\n",
    "\n",
    "try:\n",
    "    \n",
    "    a = float(a)\n",
    "    b = float(b)\n",
    "    \n",
    "    print(a/b)\n",
    "    \n",
    "except ValueError:\n",
    "    \n",
    "    print(\"Lütfen Float veya İnt değerler giriniz.\")\n",
    "    \n",
    "except ZeroDivisionError:\n",
    "    \n",
    "    print(\"Bir sayı sıfıra bölünemez\")"
   ]
  },
  {
   "cell_type": "markdown",
   "metadata": {},
   "source": [
    "## finally bloğu\n",
    "\n",
    "* Mutlaka çalışır"
   ]
  },
  {
   "cell_type": "code",
   "execution_count": 9,
   "metadata": {},
   "outputs": [
    {
     "name": "stdout",
     "output_type": "stream",
     "text": [
      "Birinci sayiyi giriniz = 8\n",
      "ikinci saiyiyi giriniz = 0\n",
      "Bir sayı sıfıra bölünemez\n",
      "Bloğa girildi\n"
     ]
    }
   ],
   "source": [
    "# Hata yakalanırsa\n",
    "\n",
    "a = input(\"Birinci sayiyi giriniz = \")\n",
    "\n",
    "b = input(\"ikinci saiyiyi giriniz = \")\n",
    "\n",
    "\n",
    "try:\n",
    "    \n",
    "    a = float(a)\n",
    "    b = float(b)\n",
    "    \n",
    "    print(a/b)\n",
    "    \n",
    "except ValueError:\n",
    "    \n",
    "    print(\"Lütfen Float veya İnt değerler giriniz.\")\n",
    "    \n",
    "except ZeroDivisionError:\n",
    "    \n",
    "    print(\"Bir sayı sıfıra bölünemez\")\n",
    "    \n",
    "finally:\n",
    "    \n",
    "    print(\"Bloğa girildi\")"
   ]
  },
  {
   "cell_type": "code",
   "execution_count": 10,
   "metadata": {},
   "outputs": [
    {
     "name": "stdout",
     "output_type": "stream",
     "text": [
      "Birinci sayiyi giriniz = 9\n",
      "ikinci saiyiyi giriniz = 8\n",
      "1.125\n",
      "Bloğa girildi\n"
     ]
    }
   ],
   "source": [
    "# Hata yakalanmazsa\n",
    "\n",
    "a = input(\"Birinci sayiyi giriniz = \")\n",
    "\n",
    "b = input(\"ikinci saiyiyi giriniz = \")\n",
    "\n",
    "\n",
    "try:\n",
    "    \n",
    "    a = float(a)\n",
    "    b = float(b)\n",
    "    \n",
    "    print(a/b)\n",
    "    \n",
    "except ValueError:\n",
    "    \n",
    "    print(\"Lütfen Float veya İnt değerler giriniz.\")\n",
    "    \n",
    "except ZeroDivisionError:\n",
    "    \n",
    "    print(\"Bir sayı sıfıra bölünemez\")\n",
    "    \n",
    "finally:\n",
    "    \n",
    "    print(\"Bloğa girildi\")"
   ]
  },
  {
   "cell_type": "markdown",
   "metadata": {},
   "source": [
    "* Örnekteki gibi hata olsada olmasada bu bloğa girer."
   ]
  },
  {
   "cell_type": "markdown",
   "metadata": {},
   "source": [
    "## Hata Fırlatma\n",
    "\n",
    "* Kendi Hatalarımızı üretip python tarafından fırlatılmasını sağlayabiliriz."
   ]
  },
  {
   "cell_type": "code",
   "execution_count": 16,
   "metadata": {},
   "outputs": [
    {
     "name": "stdout",
     "output_type": "stream",
     "text": [
      "nakruf temha\n"
     ]
    }
   ],
   "source": [
    "def ters_cevir(x):\n",
    "    \n",
    "    if type(x) != str:\n",
    "        \n",
    "        raise ValueError(\"Lütfen String Bir Deger Gönderin.\")\n",
    "        \n",
    "    else:\n",
    "        \n",
    "        x = x[::-1]\n",
    "        \n",
    "    return x\n",
    "\n",
    "print(ters_cevir(\"ahmet furkan\"))"
   ]
  },
  {
   "cell_type": "code",
   "execution_count": 17,
   "metadata": {},
   "outputs": [
    {
     "ename": "ValueError",
     "evalue": "Lütfen String Bir Deger Gönderin.",
     "output_type": "error",
     "traceback": [
      "\u001b[0;31m---------------------------------------------------------------------------\u001b[0m",
      "\u001b[0;31mValueError\u001b[0m                                Traceback (most recent call last)",
      "\u001b[0;32m<ipython-input-17-4b22b250fe2d>\u001b[0m in \u001b[0;36m<module>\u001b[0;34m\u001b[0m\n\u001b[1;32m     11\u001b[0m     \u001b[0;32mreturn\u001b[0m \u001b[0mx\u001b[0m\u001b[0;34m\u001b[0m\u001b[0;34m\u001b[0m\u001b[0m\n\u001b[1;32m     12\u001b[0m \u001b[0;34m\u001b[0m\u001b[0m\n\u001b[0;32m---> 13\u001b[0;31m \u001b[0mprint\u001b[0m\u001b[0;34m(\u001b[0m\u001b[0mters_cevir\u001b[0m\u001b[0;34m(\u001b[0m\u001b[0;36m815\u001b[0m\u001b[0;34m)\u001b[0m\u001b[0;34m)\u001b[0m\u001b[0;34m\u001b[0m\u001b[0;34m\u001b[0m\u001b[0m\n\u001b[0m",
      "\u001b[0;32m<ipython-input-17-4b22b250fe2d>\u001b[0m in \u001b[0;36mters_cevir\u001b[0;34m(x)\u001b[0m\n\u001b[1;32m      3\u001b[0m     \u001b[0;32mif\u001b[0m \u001b[0mtype\u001b[0m\u001b[0;34m(\u001b[0m\u001b[0mx\u001b[0m\u001b[0;34m)\u001b[0m \u001b[0;34m!=\u001b[0m \u001b[0mstr\u001b[0m\u001b[0;34m:\u001b[0m\u001b[0;34m\u001b[0m\u001b[0;34m\u001b[0m\u001b[0m\n\u001b[1;32m      4\u001b[0m \u001b[0;34m\u001b[0m\u001b[0m\n\u001b[0;32m----> 5\u001b[0;31m         \u001b[0;32mraise\u001b[0m \u001b[0mValueError\u001b[0m\u001b[0;34m(\u001b[0m\u001b[0;34m\"Lütfen String Bir Deger Gönderin.\"\u001b[0m\u001b[0;34m)\u001b[0m\u001b[0;34m\u001b[0m\u001b[0;34m\u001b[0m\u001b[0m\n\u001b[0m\u001b[1;32m      6\u001b[0m \u001b[0;34m\u001b[0m\u001b[0m\n\u001b[1;32m      7\u001b[0m     \u001b[0;32melse\u001b[0m\u001b[0;34m:\u001b[0m\u001b[0;34m\u001b[0m\u001b[0;34m\u001b[0m\u001b[0m\n",
      "\u001b[0;31mValueError\u001b[0m: Lütfen String Bir Deger Gönderin."
     ]
    }
   ],
   "source": [
    "def ters_cevir(x):\n",
    "    \n",
    "    if type(x) != str:\n",
    "        \n",
    "        raise ValueError(\"Lütfen String Bir Deger Gönderin.\")\n",
    "        \n",
    "    else:\n",
    "        \n",
    "        x = x[::-1]\n",
    "        \n",
    "    return x\n",
    "\n",
    "print(ters_cevir(815))"
   ]
  }
 ],
 "metadata": {
  "kernelspec": {
   "display_name": "Python 3",
   "language": "python",
   "name": "python3"
  },
  "language_info": {
   "codemirror_mode": {
    "name": "ipython",
    "version": 3
   },
   "file_extension": ".py",
   "mimetype": "text/x-python",
   "name": "python",
   "nbconvert_exporter": "python",
   "pygments_lexer": "ipython3",
   "version": "3.7.3"
  }
 },
 "nbformat": 4,
 "nbformat_minor": 4
}
